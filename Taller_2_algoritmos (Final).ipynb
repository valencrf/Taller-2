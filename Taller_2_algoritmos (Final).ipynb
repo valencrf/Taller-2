{
 "cells": [
  {
   "cell_type": "code",
   "execution_count": null,
   "metadata": {},
   "outputs": [],
   "source": [
    "def taller():\n",
    "    print (\"Eres uno de los tres cerditos. ¿Qué harías para defenderte del lobo?\")\n",
    "    print (\"A: 'Colocar un oso falso en la entrada para espantar el lobo'\")\n",
    "    print (\"B: 'Ponerse un perfume para no oler a cerdo'\")\n",
    "    print (\"C: 'Hacer un cerdo falso y dejarlo en la entrada de la casa'\")\n",
    "    print (\"D: 'Calcular que tan lejos está el lobo del cerdo': \") \n",
    "    user = input (\"Eres uno de los tres cerditos. ¿Qué harías para defenderte del lobo?\") \n",
    "    if user == 'A':\n",
    "        'Colocar un oso falso en la entrada para espantar el lobo'\n",
    "        result = \"El lobo se asusta y se va\"\n",
    "    elif user == 'B':\n",
    "        'Ponerse un perfume para no oler a cerdo'\n",
    "        result = \"El lobo deja de buscar el cerdo y se va\"\n",
    "    elif user == 'C':\n",
    "        'Hacer un cerdo falso y dejarlo en la entrada de la casa'\n",
    "        result = \"El lobo se come al cerdo falso\"\n",
    "    elif user == 'D':\n",
    "        'Calcular que tan lejos está el lobo del cerdo'\n",
    "        distancia= float(input(\"¿A que distancia está el lobo en metros?\"))\n",
    "        if distancia > 2:\n",
    "            result = 'El cerdo puede huir a la casa de ladrillos'\n",
    "        elif 0<= distancia <= 2:\n",
    "            result = 'El cerdo se defiende con una escopeta'\n",
    "        else:\n",
    "            result = 'La distancia ingresada es inválida'\n",
    "    else: \n",
    "        result = 'Opción incorrecta, por favor verifique la opción seleccionada'\n",
    "    \n",
    "    return result\n",
    "\n",
    "resultado =taller()\n",
    "print(resultado)\n"
   ]
  },
  {
   "cell_type": "code",
   "execution_count": null,
   "metadata": {},
   "outputs": [],
   "source": [
    "for i in range(4):\n",
    "    print(f\"Ronda{i+1}:\")\n",
    "    resultado = taller()\n",
    "    print(resultado)"
   ]
  }
 ],
 "metadata": {
  "kernelspec": {
   "display_name": "Python 3",
   "language": "python",
   "name": "python3"
  },
  "language_info": {
   "codemirror_mode": {
    "name": "ipython",
    "version": 3
   },
   "file_extension": ".py",
   "mimetype": "text/x-python",
   "name": "python",
   "nbconvert_exporter": "python",
   "pygments_lexer": "ipython3",
   "version": "3.11.9"
  }
 },
 "nbformat": 4,
 "nbformat_minor": 2
}

{
 "cells": [
  {
   "cell_type": "code",
   "execution_count": 18,
   "metadata": {},
   "outputs": [
    {
     "name": "stdout",
     "output_type": "stream",
     "text": [
      "El lobo se come al cerdo falso\n"
     ]
    }
   ],
   "source": [
    "def taller():\n",
    "    user = input(\"Eres uno de los tres cerditos. ¿Qué harías para defenderte del lobo?\" \n",
    "                    \"'Colocar un oso falso en la entrada para espantar el lobo'\"\n",
    "                    \"'Ponerse un perfume para no oler a cerdo'\"\n",
    "                    \"'Hacer un cerdo falso y dejarlo en la entrada de la casa'\"\n",
    "                    \"'Calcular que tan lejos está el lobo del cerdo': \")  \n",
    "    if user == 'Colocar un oso falso en la entrada para espantar el lobo':\n",
    "        result = \"El lobo deja de buscar el cerdo y se va\"\n",
    "    elif user == 'Ponerse un perfume para no oler a cerdo':\n",
    "        result = \"El lobo deja de buscar el cerdo y se va\"\n",
    "    elif user == 'Hacer un cerdo falso y dejarlo en la entrada de la casa':\n",
    "        result = \"El lobo se come al cerdo falso\"\n",
    "    elif user == 'Calcular que tan lejos está el lobo del cerdo':\n",
    "        distancia= float(input(\"¿A que distancia está el lobo en metros?\"))\n",
    "        if distancia > 2:\n",
    "            result = 'El cerdo puede huir a la casa de ladrillos'\n",
    "        elif 0<= distancia <= 2:\n",
    "            result = 'El cerdo se defiende con una escopeta'\n",
    "        else:\n",
    "            result = 'La distancia ingresada es inválida'\n",
    "    else: \n",
    "        result = 'Opción incorrecta, por favor verifique la opción seleccionada'\n",
    "    \n",
    "    return result\n",
    "\n",
    "resultado =taller()\n",
    "print(resultado)\n"
   ]
  },
  {
   "cell_type": "code",
   "execution_count": 19,
   "metadata": {},
   "outputs": [
    {
     "name": "stdout",
     "output_type": "stream",
     "text": [
      "Ronda1:\n",
      "El lobo deja de buscar el cerdo y se va\n",
      "Ronda2:\n",
      "El cerdo puede huir a la casa de ladrillos\n",
      "Ronda3:\n",
      "El lobo se come al cerdo falso\n",
      "Ronda4:\n",
      "El lobo deja de buscar el cerdo y se va\n"
     ]
    }
   ],
   "source": [
    "for i in range(4):\n",
    "    print(f\"Ronda{i+1}:\")\n",
    "    resultado = taller()\n",
    "    print(resultado)"
   ]
  }
 ],
 "metadata": {
  "kernelspec": {
   "display_name": "Python 3",
   "language": "python",
   "name": "python3"
  },
  "language_info": {
   "codemirror_mode": {
    "name": "ipython",
    "version": 3
   },
   "file_extension": ".py",
   "mimetype": "text/x-python",
   "name": "python",
   "nbconvert_exporter": "python",
   "pygments_lexer": "ipython3",
   "version": "3.12.5"
  }
 },
 "nbformat": 4,
 "nbformat_minor": 2
}
